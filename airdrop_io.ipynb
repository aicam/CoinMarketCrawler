{
 "cells": [
  {
   "cell_type": "code",
   "execution_count": 1,
   "metadata": {},
   "outputs": [],
   "source": [
    "from bs4 import BeautifulSoup\n",
    "import requests\n",
    "url = \"https://airdrops.io/latest/\"\n",
    "req = requests.get(url)\n",
    "\n",
    "\n",
    "soup = BeautifulSoup(req.text, \"html.parser\")\n",
    "show_more = soup.find('div', {'class': 'airdrops-shortcoded airdrop-hover'})"
   ]
  },
  {
   "cell_type": "code",
   "execution_count": 6,
   "metadata": {},
   "outputs": [
    {
     "data": {
      "text/plain": [
       "<article class=\"grid-33 airdrop-click airdrop-hover temperature-140 post-176729 project type-project status-publish has-post-thumbnail hentry\" data-bitcointalk-required=\"0\" data-email-address-required=\"0\" data-facebook-required=\"0\" data-kyc-required=\"0\" data-linkedin-required=\"0\" data-medium-required=\"0\" data-phone-required=\"0\" data-published=\"20211113150043\" data-reddit-required=\"0\" data-telegram-required=\"0\" data-temperature=\"140\" data-twitter-required=\"0\" id=\"post-176729\" itemscope=\"itemscope\" itemtype=\"https://schema.org/CreativeWork\">\n",
       "<div class=\"inside-article\" onclick=\"location.href='https://airdrops.io/solanart/'\">\n",
       "<div class=\"air-wrapper temperature-140\"><div class=\"droptemp\"><i class=\"fa fa-fire\"></i><span>140°</span></div><div class=\"air-thumbnail\"><img alt=\"\" src=\"https://airdrops.io/wp-content/uploads/2021/11/Solanart-logo.jpg\"/></div><div class=\"air-content-front\"><a href=\"https://airdrops.io/solanart/\"><h3>Solanart</h3></a><ul class=\"front-drop-list\"><li class=\"est-value\"><i class=\"fa fa-wrench\"></i> Action: <span>Buy or Sell NFTs</span></li></ul><ul class=\"req-drop-list\"></ul><div class=\"air-buttons\"><a class=\"button outline\" href=\"/visit/4692/\" rel=\"nofollow\" target=\"_blank\">CLAIM AIRDROP <i class=\"fa fa-sign-in\"></i></a></div></div></div>\n",
       "</div><!-- .inside-article -->\n",
       "</article>"
      ]
     },
     "execution_count": 6,
     "metadata": {},
     "output_type": "execute_result"
    }
   ],
   "source": [
    "article"
   ]
  },
  {
   "cell_type": "code",
   "execution_count": 4,
   "metadata": {},
   "outputs": [],
   "source": [
    "article = show_more.find_all('article')[0]"
   ]
  },
  {
   "cell_type": "code",
   "execution_count": 22,
   "metadata": {},
   "outputs": [
    {
     "data": {
      "text/plain": [
       "'Solanart'"
      ]
     },
     "execution_count": 22,
     "metadata": {},
     "output_type": "execute_result"
    }
   ],
   "source": [
    "article.find('h3').contents[0]"
   ]
  },
  {
   "cell_type": "code",
   "execution_count": 27,
   "metadata": {},
   "outputs": [
    {
     "data": {
      "text/plain": [
       "'https://airdrops.io/solanart/'"
      ]
     },
     "execution_count": 27,
     "metadata": {},
     "output_type": "execute_result"
    }
   ],
   "source": [
    "article.find('div', {'class': 'inside-article'})['onclick'].split(\"'\")[1].split(\"'\")[0]"
   ]
  },
  {
   "cell_type": "code",
   "execution_count": 29,
   "metadata": {},
   "outputs": [
    {
     "data": {
      "text/plain": [
       "'Buy or Sell NFTs'"
      ]
     },
     "execution_count": 29,
     "metadata": {},
     "output_type": "execute_result"
    }
   ],
   "source": [
    "show_more.find_all('article')[0].find_all('span')[1].contents[0]"
   ]
  }
 ],
 "metadata": {
  "kernelspec": {
   "display_name": "Python 3",
   "language": "python",
   "name": "python3"
  },
  "language_info": {
   "codemirror_mode": {
    "name": "ipython",
    "version": 3
   },
   "file_extension": ".py",
   "mimetype": "text/x-python",
   "name": "python",
   "nbconvert_exporter": "python",
   "pygments_lexer": "ipython3",
   "version": "3.6.9"
  }
 },
 "nbformat": 4,
 "nbformat_minor": 4
}
